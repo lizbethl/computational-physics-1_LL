{
  "nbformat": 4,
  "nbformat_minor": 0,
  "metadata": {
    "colab": {
      "provenance": [],
      "include_colab_link": true
    },
    "kernelspec": {
      "name": "python3",
      "display_name": "Python 3"
    },
    "language_info": {
      "name": "python"
    }
  },
  "cells": [
    {
      "cell_type": "markdown",
      "metadata": {
        "id": "view-in-github",
        "colab_type": "text"
      },
      "source": [
        "<a href=\"https://colab.research.google.com/github/wbandabarragan/computational-physics-1/blob/main/unit-1/104-python-basics-review.ipynb\" target=\"_parent\"><img src=\"https://colab.research.google.com/assets/colab-badge.svg\" alt=\"Open In Colab\"/></a>"
      ]
    },
    {
      "cell_type": "markdown",
      "source": [
        "# Basic Operations with Python\n",
        "\n",
        "Python can be used as a scientific calculator.\n",
        "\n",
        "This only requires lauching an interpreter and using the correct syntax to carry out mathematical operations.\n",
        "\n",
        "## 1. Math operations:"
      ],
      "metadata": {
        "id": "-ikQUYqdrCKY"
      }
    },
    {
      "cell_type": "code",
      "execution_count": 95,
      "metadata": {
        "colab": {
          "base_uri": "https://localhost:8080/"
        },
        "id": "hWEfDJGXq81n",
        "outputId": "a765f5c4-3adb-4253-a1e0-1e2d9c7a3699"
      },
      "outputs": [
        {
          "output_type": "execute_result",
          "data": {
            "text/plain": [
              "4"
            ]
          },
          "metadata": {},
          "execution_count": 95
        }
      ],
      "source": [
        "# Addition\n",
        "\n",
        "1 + 3"
      ]
    },
    {
      "cell_type": "code",
      "source": [
        "# Multiplication/Division\n",
        "\n",
        "(2 * 10)/(5)"
      ],
      "metadata": {
        "colab": {
          "base_uri": "https://localhost:8080/"
        },
        "id": "CpGYG6P7rGFM",
        "outputId": "401cee05-9bea-4c6e-e92b-dff7a10bd58a"
      },
      "execution_count": 96,
      "outputs": [
        {
          "output_type": "execute_result",
          "data": {
            "text/plain": [
              "4.0"
            ]
          },
          "metadata": {},
          "execution_count": 96
        }
      ]
    },
    {
      "cell_type": "code",
      "source": [
        "_*7"
      ],
      "metadata": {
        "colab": {
          "base_uri": "https://localhost:8080/"
        },
        "id": "1_n2x8FKrUyf",
        "outputId": "4f230270-6e23-4d8f-f7e3-1ba05052098c"
      },
      "execution_count": 97,
      "outputs": [
        {
          "output_type": "execute_result",
          "data": {
            "text/plain": [
              "28.0"
            ]
          },
          "metadata": {},
          "execution_count": 97
        }
      ]
    },
    {
      "cell_type": "code",
      "source": [
        "# Exponentiation\n",
        "\n",
        "(2)**(3)"
      ],
      "metadata": {
        "colab": {
          "base_uri": "https://localhost:8080/"
        },
        "id": "eMVJY-V8PJJP",
        "outputId": "550db28f-2b14-4c21-b64a-e5bef9017a18"
      },
      "execution_count": 98,
      "outputs": [
        {
          "output_type": "execute_result",
          "data": {
            "text/plain": [
              "8"
            ]
          },
          "metadata": {},
          "execution_count": 98
        }
      ]
    },
    {
      "cell_type": "markdown",
      "source": [
        "# 2. The math library:"
      ],
      "metadata": {
        "id": "IUKzAM_XrkGL"
      }
    },
    {
      "cell_type": "code",
      "source": [
        "import math"
      ],
      "metadata": {
        "id": "CwkZrpucrgRF"
      },
      "execution_count": 99,
      "outputs": []
    },
    {
      "cell_type": "code",
      "source": [
        "math.cos(0)"
      ],
      "metadata": {
        "colab": {
          "base_uri": "https://localhost:8080/"
        },
        "id": "flEvprGUrxQd",
        "outputId": "25934662-26cd-4e45-a13f-2419b815dfd2"
      },
      "execution_count": 100,
      "outputs": [
        {
          "output_type": "execute_result",
          "data": {
            "text/plain": [
              "1.0"
            ]
          },
          "metadata": {},
          "execution_count": 100
        }
      ]
    },
    {
      "cell_type": "code",
      "source": [
        "math.sqrt(4)"
      ],
      "metadata": {
        "colab": {
          "base_uri": "https://localhost:8080/"
        },
        "id": "0pk3dgLosWie",
        "outputId": "93e21dc6-2a04-401e-f19a-d179032429a0"
      },
      "execution_count": 101,
      "outputs": [
        {
          "output_type": "execute_result",
          "data": {
            "text/plain": [
              "2.0"
            ]
          },
          "metadata": {},
          "execution_count": 101
        }
      ]
    },
    {
      "cell_type": "code",
      "source": [
        "math.exp(2)"
      ],
      "metadata": {
        "colab": {
          "base_uri": "https://localhost:8080/"
        },
        "id": "hCQyYEnTsaY0",
        "outputId": "edbfad4a-49da-4e7f-9c2a-34dd965501c8"
      },
      "execution_count": 102,
      "outputs": [
        {
          "output_type": "execute_result",
          "data": {
            "text/plain": [
              "7.38905609893065"
            ]
          },
          "metadata": {},
          "execution_count": 102
        }
      ]
    },
    {
      "cell_type": "code",
      "source": [
        "math.exp(math.log(10))"
      ],
      "metadata": {
        "colab": {
          "base_uri": "https://localhost:8080/"
        },
        "id": "rHyHMGWPsdmV",
        "outputId": "5b0738ff-329e-40f5-cade-2b315bfb0538"
      },
      "execution_count": 103,
      "outputs": [
        {
          "output_type": "execute_result",
          "data": {
            "text/plain": [
              "10.000000000000002"
            ]
          },
          "metadata": {},
          "execution_count": 103
        }
      ]
    },
    {
      "cell_type": "code",
      "source": [
        "math.factorial(4)"
      ],
      "metadata": {
        "colab": {
          "base_uri": "https://localhost:8080/"
        },
        "id": "DI2HAIykskJ8",
        "outputId": "4d015f16-921b-4f29-a8f8-669278b27498"
      },
      "execution_count": 104,
      "outputs": [
        {
          "output_type": "execute_result",
          "data": {
            "text/plain": [
              "24"
            ]
          },
          "metadata": {},
          "execution_count": 104
        }
      ]
    },
    {
      "cell_type": "code",
      "source": [
        "math.comb?"
      ],
      "metadata": {
        "id": "hSRcAA3Gtm5M"
      },
      "execution_count": 105,
      "outputs": []
    },
    {
      "cell_type": "code",
      "source": [
        "1/0"
      ],
      "metadata": {
        "colab": {
          "base_uri": "https://localhost:8080/",
          "height": 141
        },
        "id": "myDkCxq-tsuo",
        "outputId": "1cda00ef-da05-4934-884a-cfa4e9d2e046"
      },
      "execution_count": 106,
      "outputs": [
        {
          "output_type": "error",
          "ename": "ZeroDivisionError",
          "evalue": "division by zero",
          "traceback": [
            "\u001b[0;31m---------------------------------------------------------------------------\u001b[0m",
            "\u001b[0;31mZeroDivisionError\u001b[0m                         Traceback (most recent call last)",
            "\u001b[0;32m<ipython-input-106-9e1622b385b6>\u001b[0m in \u001b[0;36m<cell line: 1>\u001b[0;34m()\u001b[0m\n\u001b[0;32m----> 1\u001b[0;31m \u001b[0;36m1\u001b[0m\u001b[0;34m/\u001b[0m\u001b[0;36m0\u001b[0m\u001b[0;34m\u001b[0m\u001b[0;34m\u001b[0m\u001b[0m\n\u001b[0m",
            "\u001b[0;31mZeroDivisionError\u001b[0m: division by zero"
          ]
        }
      ]
    },
    {
      "cell_type": "code",
      "source": [
        "1/math.inf"
      ],
      "metadata": {
        "colab": {
          "base_uri": "https://localhost:8080/"
        },
        "id": "QrrAzwCLu045",
        "outputId": "97878c11-bf73-4255-863a-1236735cfe32"
      },
      "execution_count": 107,
      "outputs": [
        {
          "output_type": "execute_result",
          "data": {
            "text/plain": [
              "0.0"
            ]
          },
          "metadata": {},
          "execution_count": 107
        }
      ]
    },
    {
      "cell_type": "code",
      "source": [
        "math.inf * 3"
      ],
      "metadata": {
        "colab": {
          "base_uri": "https://localhost:8080/"
        },
        "id": "CDzlAqfyvStL",
        "outputId": "caaf1060-63ab-4fba-c2de-915e1cc00f0c"
      },
      "execution_count": 108,
      "outputs": [
        {
          "output_type": "execute_result",
          "data": {
            "text/plain": [
              "inf"
            ]
          },
          "metadata": {},
          "execution_count": 108
        }
      ]
    },
    {
      "cell_type": "code",
      "source": [
        "math.inf/math.inf"
      ],
      "metadata": {
        "colab": {
          "base_uri": "https://localhost:8080/"
        },
        "id": "YUvt44D9vXbn",
        "outputId": "939e5d7d-05c0-443e-a5cb-55011e08da90"
      },
      "execution_count": 109,
      "outputs": [
        {
          "output_type": "execute_result",
          "data": {
            "text/plain": [
              "nan"
            ]
          },
          "metadata": {},
          "execution_count": 109
        }
      ]
    },
    {
      "cell_type": "markdown",
      "source": [
        "- \"nan\" stands for \"not a number\"."
      ],
      "metadata": {
        "id": "diEw0CNQq1zF"
      }
    },
    {
      "cell_type": "markdown",
      "source": [
        "## 3. Complex numbers\n",
        "\n",
        "In python: $j=\\sqrt{-1}$"
      ],
      "metadata": {
        "id": "oOSExEi8v2yg"
      }
    },
    {
      "cell_type": "code",
      "source": [
        "complex(3,4)"
      ],
      "metadata": {
        "colab": {
          "base_uri": "https://localhost:8080/"
        },
        "id": "qph4Ji4Pvd9H",
        "outputId": "954620ea-0b02-4231-b35e-3fb7a6f3e515"
      },
      "execution_count": 112,
      "outputs": [
        {
          "output_type": "execute_result",
          "data": {
            "text/plain": [
              "(3+4j)"
            ]
          },
          "metadata": {},
          "execution_count": 112
        }
      ]
    },
    {
      "cell_type": "code",
      "source": [
        "-1 + 2j"
      ],
      "metadata": {
        "colab": {
          "base_uri": "https://localhost:8080/"
        },
        "id": "DZkFo3xvv6zD",
        "outputId": "df3dc112-6f2f-4f22-9706-6bc8120b9a81"
      },
      "execution_count": 113,
      "outputs": [
        {
          "output_type": "execute_result",
          "data": {
            "text/plain": [
              "(-1+2j)"
            ]
          },
          "metadata": {},
          "execution_count": 113
        }
      ]
    },
    {
      "cell_type": "markdown",
      "source": [
        "## 4. Data types:\n",
        "\n",
        "int: integers\n",
        "\n",
        "float: floating point numbers\n",
        "\n",
        "complex: complex numbers\n",
        "\n",
        "\n",
        "The command type() allows to check which type you are dealing with."
      ],
      "metadata": {
        "id": "2JjdWGaSykzU"
      }
    },
    {
      "cell_type": "code",
      "source": [
        "type(12)"
      ],
      "metadata": {
        "colab": {
          "base_uri": "https://localhost:8080/"
        },
        "id": "kC59CFzbwtoH",
        "outputId": "e0737768-a27d-4dd1-9994-dff43d360d63"
      },
      "execution_count": 114,
      "outputs": [
        {
          "output_type": "execute_result",
          "data": {
            "text/plain": [
              "int"
            ]
          },
          "metadata": {},
          "execution_count": 114
        }
      ]
    },
    {
      "cell_type": "code",
      "source": [
        "type(12.)"
      ],
      "metadata": {
        "colab": {
          "base_uri": "https://localhost:8080/"
        },
        "id": "W5ojmo9bzVuE",
        "outputId": "92f9a314-c233-40aa-b31d-dc447ca2f0ff"
      },
      "execution_count": 115,
      "outputs": [
        {
          "output_type": "execute_result",
          "data": {
            "text/plain": [
              "float"
            ]
          },
          "metadata": {},
          "execution_count": 115
        }
      ]
    },
    {
      "cell_type": "code",
      "source": [
        "type(3+4j)"
      ],
      "metadata": {
        "colab": {
          "base_uri": "https://localhost:8080/"
        },
        "id": "lywa_NTCzZXd",
        "outputId": "d3bd4efb-b515-4010-ee86-022e81866832"
      },
      "execution_count": 116,
      "outputs": [
        {
          "output_type": "execute_result",
          "data": {
            "text/plain": [
              "complex"
            ]
          },
          "metadata": {},
          "execution_count": 116
        }
      ]
    },
    {
      "cell_type": "code",
      "source": [
        "type(\"hola\")"
      ],
      "metadata": {
        "id": "3a_QQqPszjsz",
        "colab": {
          "base_uri": "https://localhost:8080/"
        },
        "outputId": "28e470c1-909a-4dac-b627-b9ff0cd1c4a2"
      },
      "execution_count": 117,
      "outputs": [
        {
          "output_type": "execute_result",
          "data": {
            "text/plain": [
              "str"
            ]
          },
          "metadata": {},
          "execution_count": 117
        }
      ]
    },
    {
      "cell_type": "markdown",
      "source": [
        "## 5. Logical operators:\n",
        "\n",
        "They are very helpful when dealing with conditionals:"
      ],
      "metadata": {
        "id": "5Wy1N0Bwzrif"
      }
    },
    {
      "cell_type": "code",
      "source": [
        "# Compare two numbers\n",
        "\n",
        "2 == 3"
      ],
      "metadata": {
        "colab": {
          "base_uri": "https://localhost:8080/"
        },
        "id": "ShMhsQuQzuW7",
        "outputId": "73ceddd0-2276-484d-8401-f04ca3e4e9ca"
      },
      "execution_count": 118,
      "outputs": [
        {
          "output_type": "execute_result",
          "data": {
            "text/plain": [
              "False"
            ]
          },
          "metadata": {},
          "execution_count": 118
        }
      ]
    },
    {
      "cell_type": "code",
      "source": [
        "2 < 3"
      ],
      "metadata": {
        "colab": {
          "base_uri": "https://localhost:8080/"
        },
        "id": "BPjs-NLq0Pck",
        "outputId": "12cb38a2-e60b-40dd-edc6-a633b3304228"
      },
      "execution_count": 119,
      "outputs": [
        {
          "output_type": "execute_result",
          "data": {
            "text/plain": [
              "True"
            ]
          },
          "metadata": {},
          "execution_count": 119
        }
      ]
    },
    {
      "cell_type": "code",
      "source": [
        "# And, Not, Or\n",
        "\n",
        "(2 and not 2) and (2 and 2)"
      ],
      "metadata": {
        "colab": {
          "base_uri": "https://localhost:8080/"
        },
        "id": "_jlnwAGW0Vka",
        "outputId": "7a32ab61-040e-4561-9310-532560aa9b4a"
      },
      "execution_count": 120,
      "outputs": [
        {
          "output_type": "execute_result",
          "data": {
            "text/plain": [
              "False"
            ]
          },
          "metadata": {},
          "execution_count": 120
        }
      ]
    },
    {
      "cell_type": "code",
      "source": [
        "(4 > 3) + (2 > 1)"
      ],
      "metadata": {
        "colab": {
          "base_uri": "https://localhost:8080/"
        },
        "id": "bPazq1-L0tJG",
        "outputId": "763172be-8453-4886-d3ee-657cc41aaac8"
      },
      "execution_count": 121,
      "outputs": [
        {
          "output_type": "execute_result",
          "data": {
            "text/plain": [
              "2"
            ]
          },
          "metadata": {},
          "execution_count": 121
        }
      ]
    },
    {
      "cell_type": "markdown",
      "source": [
        "## 6. Variables:\n",
        "\n",
        "The = sign is called assignment operator!"
      ],
      "metadata": {
        "id": "V89EIaRw1O2D"
      }
    },
    {
      "cell_type": "code",
      "source": [
        "# Define variables\n",
        "\n",
        "a = 3\n",
        "b = 3."
      ],
      "metadata": {
        "id": "KCIYqy8u1D_5"
      },
      "execution_count": 122,
      "outputs": []
    },
    {
      "cell_type": "code",
      "source": [
        "print(type(a))\n",
        "print(type(b))"
      ],
      "metadata": {
        "colab": {
          "base_uri": "https://localhost:8080/"
        },
        "id": "n15jtHF-2LGp",
        "outputId": "45da93f9-7f3d-4e7a-edd0-4d5ebe2f1c72"
      },
      "execution_count": 123,
      "outputs": [
        {
          "output_type": "stream",
          "name": "stdout",
          "text": [
            "<class 'int'>\n",
            "<class 'float'>\n"
          ]
        }
      ]
    },
    {
      "cell_type": "code",
      "source": [
        "# Operations with variables\n",
        "\n",
        "c = b*2.\n",
        "\n",
        "print(c)"
      ],
      "metadata": {
        "colab": {
          "base_uri": "https://localhost:8080/"
        },
        "id": "f8Rh-nsw2Mjp",
        "outputId": "9d6f171b-a491-4c3b-fca8-9c1406b7d181"
      },
      "execution_count": 124,
      "outputs": [
        {
          "output_type": "stream",
          "name": "stdout",
          "text": [
            "6.0\n"
          ]
        }
      ]
    },
    {
      "cell_type": "code",
      "source": [
        "# %whos is used to check what variables are stored in memory.\n",
        "\n",
        "%whos"
      ],
      "metadata": {
        "colab": {
          "base_uri": "https://localhost:8080/"
        },
        "id": "isaVa5Lr2pFo",
        "outputId": "21df2fe1-7b61-4a66-f5ff-bf6aba49acb2"
      },
      "execution_count": 126,
      "outputs": [
        {
          "output_type": "stream",
          "name": "stdout",
          "text": [
            "Variable   Type      Data/Info\n",
            "------------------------------\n",
            "a          int       3\n",
            "b          float     3.0\n",
            "c          float     6.0\n",
            "d          str       file\n",
            "d_list     list      n=4\n",
            "dict_1     dict      n=4\n",
            "e          str        \n",
            "f          str       file001\n",
            "list_1     list      n=3\n",
            "list_2     list      n=3\n",
            "list_3     list      n=6\n",
            "m          list      n=2\n",
            "math       module    <module 'math' (built-in)>\n",
            "set_1      set       {1, 2, 3, 4, 5, 6, 7}\n",
            "set_2      set       {1, 2, 3, 4, 5, 6, 7}\n",
            "set_3      set       {'c', 'Y', 'h', 'a', 'y'}\n",
            "set_4      set       {5, 6, 7, 8, 9, 10}\n",
            "t          float     1.0\n",
            "tuple_1    tuple     n=3\n",
            "tuple_2    tuple     n=3\n",
            "tuple_3    tuple     n=3\n",
            "x          int       100\n",
            "y          int       200\n",
            "z          int       500\n"
          ]
        }
      ]
    },
    {
      "cell_type": "code",
      "source": [
        "# If you use one of them again, the variable is redefined and updated.\n",
        "\n",
        "a = 5."
      ],
      "metadata": {
        "id": "FITfyXXLUiSA"
      },
      "execution_count": 129,
      "outputs": []
    },
    {
      "cell_type": "code",
      "source": [
        "%whos"
      ],
      "metadata": {
        "colab": {
          "base_uri": "https://localhost:8080/"
        },
        "id": "meWEB6UNUlNx",
        "outputId": "facdf29d-3c31-499c-a691-b077efc0ea4c"
      },
      "execution_count": 130,
      "outputs": [
        {
          "output_type": "stream",
          "name": "stdout",
          "text": [
            "Variable   Type      Data/Info\n",
            "------------------------------\n",
            "a          float     5.0\n",
            "b          float     3.0\n",
            "c          float     6.0\n",
            "d          str       file\n",
            "d_list     list      n=4\n",
            "dict_1     dict      n=4\n",
            "e          str        \n",
            "f          str       file001\n",
            "list_1     list      n=3\n",
            "list_2     list      n=3\n",
            "list_3     list      n=6\n",
            "m          list      n=2\n",
            "math       module    <module 'math' (built-in)>\n",
            "set_1      set       {1, 2, 3, 4, 5, 6, 7}\n",
            "set_2      set       {1, 2, 3, 4, 5, 6, 7}\n",
            "set_3      set       {'c', 'Y', 'h', 'a', 'y'}\n",
            "set_4      set       {5, 6, 7, 8, 9, 10}\n",
            "t          float     1.0\n",
            "tuple_1    tuple     n=3\n",
            "tuple_2    tuple     n=3\n",
            "tuple_3    tuple     n=3\n",
            "x          int       100\n",
            "y          int       200\n",
            "z          int       500\n"
          ]
        }
      ]
    },
    {
      "cell_type": "code",
      "source": [
        "# Another operation for a\n",
        "\n",
        "a = b+1."
      ],
      "metadata": {
        "id": "rFSz4dEo24ZS"
      },
      "execution_count": 131,
      "outputs": []
    },
    {
      "cell_type": "code",
      "source": [
        "%whos"
      ],
      "metadata": {
        "colab": {
          "base_uri": "https://localhost:8080/"
        },
        "id": "gDPdVJ323Ss3",
        "outputId": "5b7a98b3-897d-4c12-f88b-f707ad00a1d8"
      },
      "execution_count": 132,
      "outputs": [
        {
          "output_type": "stream",
          "name": "stdout",
          "text": [
            "Variable   Type      Data/Info\n",
            "------------------------------\n",
            "a          float     4.0\n",
            "b          float     3.0\n",
            "c          float     6.0\n",
            "d          str       file\n",
            "d_list     list      n=4\n",
            "dict_1     dict      n=4\n",
            "e          str        \n",
            "f          str       file001\n",
            "list_1     list      n=3\n",
            "list_2     list      n=3\n",
            "list_3     list      n=6\n",
            "m          list      n=2\n",
            "math       module    <module 'math' (built-in)>\n",
            "set_1      set       {1, 2, 3, 4, 5, 6, 7}\n",
            "set_2      set       {1, 2, 3, 4, 5, 6, 7}\n",
            "set_3      set       {'c', 'Y', 'h', 'a', 'y'}\n",
            "set_4      set       {5, 6, 7, 8, 9, 10}\n",
            "t          float     1.0\n",
            "tuple_1    tuple     n=3\n",
            "tuple_2    tuple     n=3\n",
            "tuple_3    tuple     n=3\n",
            "x          int       100\n",
            "y          int       200\n",
            "z          int       500\n"
          ]
        }
      ]
    },
    {
      "cell_type": "code",
      "source": [
        "t = 0.\n",
        "\n",
        "print(t)"
      ],
      "metadata": {
        "colab": {
          "base_uri": "https://localhost:8080/"
        },
        "id": "jTxznvyu3TxL",
        "outputId": "305116c8-ddff-4bc0-ad1e-569c80859181"
      },
      "execution_count": 133,
      "outputs": [
        {
          "output_type": "stream",
          "name": "stdout",
          "text": [
            "0.0\n"
          ]
        }
      ]
    },
    {
      "cell_type": "code",
      "source": [
        "t = t + 1.\n",
        "\n",
        "print(t)"
      ],
      "metadata": {
        "colab": {
          "base_uri": "https://localhost:8080/"
        },
        "id": "EYDfREuh3v92",
        "outputId": "afdd2750-204f-40b5-a745-1d99e6258fbc"
      },
      "execution_count": 134,
      "outputs": [
        {
          "output_type": "stream",
          "name": "stdout",
          "text": [
            "1.0\n"
          ]
        }
      ]
    },
    {
      "cell_type": "code",
      "source": [
        "# To delete a variable from memory, we can use del\n",
        "\n",
        "del a"
      ],
      "metadata": {
        "id": "HOo6VPxBU0zo"
      },
      "execution_count": 135,
      "outputs": []
    },
    {
      "cell_type": "code",
      "source": [
        "print(a)"
      ],
      "metadata": {
        "colab": {
          "base_uri": "https://localhost:8080/",
          "height": 141
        },
        "id": "sLfpBFSMVDHU",
        "outputId": "cede4029-268d-42b9-901f-febb53700615"
      },
      "execution_count": 136,
      "outputs": [
        {
          "output_type": "error",
          "ename": "NameError",
          "evalue": "name 'a' is not defined",
          "traceback": [
            "\u001b[0;31m---------------------------------------------------------------------------\u001b[0m",
            "\u001b[0;31mNameError\u001b[0m                                 Traceback (most recent call last)",
            "\u001b[0;32m<ipython-input-136-bca0e2660b9f>\u001b[0m in \u001b[0;36m<cell line: 1>\u001b[0;34m()\u001b[0m\n\u001b[0;32m----> 1\u001b[0;31m \u001b[0mprint\u001b[0m\u001b[0;34m(\u001b[0m\u001b[0ma\u001b[0m\u001b[0;34m)\u001b[0m\u001b[0;34m\u001b[0m\u001b[0;34m\u001b[0m\u001b[0m\n\u001b[0m",
            "\u001b[0;31mNameError\u001b[0m: name 'a' is not defined"
          ]
        }
      ]
    },
    {
      "cell_type": "code",
      "source": [
        "%whos"
      ],
      "metadata": {
        "colab": {
          "base_uri": "https://localhost:8080/"
        },
        "id": "acGA6x1FU2mS",
        "outputId": "bd109fdc-2417-4ac4-9918-cfe75737e133"
      },
      "execution_count": 137,
      "outputs": [
        {
          "output_type": "stream",
          "name": "stdout",
          "text": [
            "Variable   Type      Data/Info\n",
            "------------------------------\n",
            "b          float     3.0\n",
            "c          float     6.0\n",
            "d          str       file\n",
            "d_list     list      n=4\n",
            "dict_1     dict      n=4\n",
            "e          str        \n",
            "f          str       file001\n",
            "list_1     list      n=3\n",
            "list_2     list      n=3\n",
            "list_3     list      n=6\n",
            "m          list      n=2\n",
            "math       module    <module 'math' (built-in)>\n",
            "set_1      set       {1, 2, 3, 4, 5, 6, 7}\n",
            "set_2      set       {1, 2, 3, 4, 5, 6, 7}\n",
            "set_3      set       {'c', 'Y', 'h', 'a', 'y'}\n",
            "set_4      set       {5, 6, 7, 8, 9, 10}\n",
            "t          float     1.0\n",
            "tuple_1    tuple     n=3\n",
            "tuple_2    tuple     n=3\n",
            "tuple_3    tuple     n=3\n",
            "x          int       100\n",
            "y          int       200\n",
            "z          int       500\n"
          ]
        }
      ]
    },
    {
      "cell_type": "markdown",
      "source": [
        "## 7. Data structures:\n",
        "\n",
        "- Strings: characters -> text\n",
        "\n",
        "- Lists: native to python\n",
        "\n",
        "- Tuples: Sets of data\n",
        "\n",
        "- Sets, Dictionaries.\n",
        "\n",
        "- Arrays (Numpy)"
      ],
      "metadata": {
        "id": "3vHbXEro4URY"
      }
    },
    {
      "cell_type": "markdown",
      "source": [
        "7.1 Strings:"
      ],
      "metadata": {
        "id": "rIo6Hrgr5IYL"
      }
    },
    {
      "cell_type": "code",
      "source": [
        "# Examples\n",
        "\n",
        "d = \"file\"\n",
        "\n",
        "print(type(d)) # Type of data structure\n",
        "\n",
        "print(len(d)) # Number of characters in the string"
      ],
      "metadata": {
        "colab": {
          "base_uri": "https://localhost:8080/"
        },
        "id": "Gj4UWgaU3yRs",
        "outputId": "8f7535ad-b85a-46b8-a8cf-12f95fb3456c"
      },
      "execution_count": 138,
      "outputs": [
        {
          "output_type": "stream",
          "name": "stdout",
          "text": [
            "<class 'str'>\n",
            "4\n"
          ]
        }
      ]
    },
    {
      "cell_type": "code",
      "source": [
        "# Empty string\n",
        "\n",
        "e = \" \"\n",
        "\n",
        "print(type(e), len(e))"
      ],
      "metadata": {
        "colab": {
          "base_uri": "https://localhost:8080/"
        },
        "id": "ywivlErX5VHY",
        "outputId": "cc51abb0-d8a1-48ee-84fc-722cef05d593"
      },
      "execution_count": 139,
      "outputs": [
        {
          "output_type": "stream",
          "name": "stdout",
          "text": [
            "<class 'str'> 1\n"
          ]
        }
      ]
    },
    {
      "cell_type": "code",
      "source": [
        "# Access specific character\n",
        "\n",
        "f = \"file001\"\n",
        "\n",
        "print(type(f), len(f))"
      ],
      "metadata": {
        "id": "RRtG216l5wCx",
        "colab": {
          "base_uri": "https://localhost:8080/"
        },
        "outputId": "87902245-f13f-4964-8601-bffd57b25adb"
      },
      "execution_count": 140,
      "outputs": [
        {
          "output_type": "stream",
          "name": "stdout",
          "text": [
            "<class 'str'> 7\n"
          ]
        }
      ]
    },
    {
      "cell_type": "code",
      "source": [
        "# Python indexes from 0, and the [] are used for indexing.\n",
        "\n",
        "print(f[6])\n",
        "\n",
        "print(f[4:7])"
      ],
      "metadata": {
        "colab": {
          "base_uri": "https://localhost:8080/"
        },
        "id": "NFJsAnYz59yj",
        "outputId": "7103cb14-f817-45ea-bac4-cae7c377c3bb"
      },
      "execution_count": 141,
      "outputs": [
        {
          "output_type": "stream",
          "name": "stdout",
          "text": [
            "1\n",
            "001\n"
          ]
        }
      ]
    },
    {
      "cell_type": "code",
      "source": [
        "print(f.count(\"0\"))\n",
        "print(f.replace(\"00\", \"01\"))"
      ],
      "metadata": {
        "colab": {
          "base_uri": "https://localhost:8080/"
        },
        "id": "dLhreapv6BcL",
        "outputId": "91ab7302-5b92-471c-9273-f7ad2101b5ff"
      },
      "execution_count": 142,
      "outputs": [
        {
          "output_type": "stream",
          "name": "stdout",
          "text": [
            "2\n",
            "file011\n"
          ]
        }
      ]
    },
    {
      "cell_type": "markdown",
      "source": [
        "## 7.2 Lists:\n",
        "\n",
        "To define lists we use [] (square brackets)."
      ],
      "metadata": {
        "id": "z939pa9e6zXA"
      }
    },
    {
      "cell_type": "code",
      "source": [
        "list_1 = [4,7,9]\n",
        "\n",
        "print(type(list_1))"
      ],
      "metadata": {
        "colab": {
          "base_uri": "https://localhost:8080/"
        },
        "id": "2pjMPhoE6jIV",
        "outputId": "0a569190-cd72-44e1-f3ba-c428ac898c2c"
      },
      "execution_count": 143,
      "outputs": [
        {
          "output_type": "stream",
          "name": "stdout",
          "text": [
            "<class 'list'>\n"
          ]
        }
      ]
    },
    {
      "cell_type": "code",
      "source": [
        "list_2 = [\"Hola\",7,9]\n",
        "\n",
        "print(list_2)\n",
        "print(type(list_2))"
      ],
      "metadata": {
        "colab": {
          "base_uri": "https://localhost:8080/"
        },
        "id": "xKy1uBwX7C2r",
        "outputId": "9b7d3769-774d-481d-f535-36544e0b100d"
      },
      "execution_count": 144,
      "outputs": [
        {
          "output_type": "stream",
          "name": "stdout",
          "text": [
            "['Hola', 7, 9]\n",
            "<class 'list'>\n"
          ]
        }
      ]
    },
    {
      "cell_type": "code",
      "source": [
        "# Indexing\n",
        "\n",
        "print(list_2[0], type(list_2[0]))\n",
        "print(list_2[2], type(list_2[2]))\n",
        "print(list_2[-1])"
      ],
      "metadata": {
        "colab": {
          "base_uri": "https://localhost:8080/"
        },
        "id": "EPgm1eFl7HdG",
        "outputId": "a0d6d33e-2165-419d-9b5a-8e92b7febfb0"
      },
      "execution_count": 145,
      "outputs": [
        {
          "output_type": "stream",
          "name": "stdout",
          "text": [
            "Hola <class 'str'>\n",
            "9 <class 'int'>\n",
            "9\n"
          ]
        }
      ]
    },
    {
      "cell_type": "code",
      "source": [
        "# length of the list\n",
        "\n",
        "len(list_2)\n"
      ],
      "metadata": {
        "colab": {
          "base_uri": "https://localhost:8080/"
        },
        "id": "wWQzohqS7atG",
        "outputId": "12e989c7-2e5a-47d2-dea3-ee2eea21804f"
      },
      "execution_count": 146,
      "outputs": [
        {
          "output_type": "execute_result",
          "data": {
            "text/plain": [
              "3"
            ]
          },
          "metadata": {},
          "execution_count": 146
        }
      ]
    },
    {
      "cell_type": "code",
      "source": [
        "# Concatenate lists\n",
        "\n",
        "list_3 = list_1 + list_2\n",
        "\n",
        "print(list_3)\n",
        "print(len(list_3))"
      ],
      "metadata": {
        "colab": {
          "base_uri": "https://localhost:8080/"
        },
        "id": "nxMpgerS79MR",
        "outputId": "a53e87cf-2820-4402-8dfd-7bf662afce1d"
      },
      "execution_count": 147,
      "outputs": [
        {
          "output_type": "stream",
          "name": "stdout",
          "text": [
            "[4, 7, 9, 'Hola', 7, 9]\n",
            "6\n"
          ]
        }
      ]
    },
    {
      "cell_type": "code",
      "source": [
        "# Empty list\n",
        "\n",
        "m = []\n",
        "\n",
        "print(m, type(m))\n",
        "\n",
        "m.append(1)\n",
        "\n",
        "print(m)"
      ],
      "metadata": {
        "colab": {
          "base_uri": "https://localhost:8080/"
        },
        "id": "y3yz_nw_8Hgr",
        "outputId": "fdd2c145-7d51-46ba-aa95-dc7206de7c99"
      },
      "execution_count": 148,
      "outputs": [
        {
          "output_type": "stream",
          "name": "stdout",
          "text": [
            "[] <class 'list'>\n",
            "[1]\n"
          ]
        }
      ]
    },
    {
      "cell_type": "code",
      "source": [
        "m.append(2)\n",
        "\n",
        "print(m)"
      ],
      "metadata": {
        "colab": {
          "base_uri": "https://localhost:8080/"
        },
        "id": "HKXoS2Eg8hm_",
        "outputId": "e8f0c142-4539-46cd-c896-896e4d08802f"
      },
      "execution_count": 149,
      "outputs": [
        {
          "output_type": "stream",
          "name": "stdout",
          "text": [
            "[1, 2]\n"
          ]
        }
      ]
    },
    {
      "cell_type": "code",
      "source": [
        "print(d, type(d))"
      ],
      "metadata": {
        "colab": {
          "base_uri": "https://localhost:8080/"
        },
        "id": "3_8LaOu4ZOPF",
        "outputId": "6d347c1e-586c-4890-898a-a7743210e338"
      },
      "execution_count": 150,
      "outputs": [
        {
          "output_type": "stream",
          "name": "stdout",
          "text": [
            "file <class 'str'>\n"
          ]
        }
      ]
    },
    {
      "cell_type": "code",
      "source": [
        "# String to list\n",
        "\n",
        "d_list = list(d)\n",
        "\n",
        "print(d_list, type(d_list))"
      ],
      "metadata": {
        "colab": {
          "base_uri": "https://localhost:8080/"
        },
        "id": "BValGRq08n1e",
        "outputId": "76bd0f19-421c-4a91-9238-2ff48ea3f7d5"
      },
      "execution_count": 151,
      "outputs": [
        {
          "output_type": "stream",
          "name": "stdout",
          "text": [
            "['f', 'i', 'l', 'e'] <class 'list'>\n"
          ]
        }
      ]
    },
    {
      "cell_type": "markdown",
      "source": [
        "## 7.3 Tuples:\n",
        "\n",
        "To define tuples we use ().\n",
        "\n",
        "Tuples -> sets of #'s"
      ],
      "metadata": {
        "id": "OUqQZQnna1SP"
      }
    },
    {
      "cell_type": "code",
      "source": [
        "# Define a tuple\n",
        "\n",
        "tuple_1 = (100, 200, 300)\n",
        "\n",
        "print(type(tuple_1))"
      ],
      "metadata": {
        "id": "dMYSaKSK8zab",
        "colab": {
          "base_uri": "https://localhost:8080/"
        },
        "outputId": "6a5e74ed-76bc-44e9-af9e-c9d5a3db4090"
      },
      "execution_count": 152,
      "outputs": [
        {
          "output_type": "stream",
          "name": "stdout",
          "text": [
            "<class 'tuple'>\n"
          ]
        }
      ]
    },
    {
      "cell_type": "code",
      "source": [
        "# Use indexing\n",
        "\n",
        "print(tuple_1[0:2])"
      ],
      "metadata": {
        "colab": {
          "base_uri": "https://localhost:8080/"
        },
        "id": "AuGSmeJebYbt",
        "outputId": "757dc509-310e-4411-afe5-632931df6fd1"
      },
      "execution_count": 153,
      "outputs": [
        {
          "output_type": "stream",
          "name": "stdout",
          "text": [
            "(100, 200)\n"
          ]
        }
      ]
    },
    {
      "cell_type": "code",
      "source": [
        "print(len(tuple_1))"
      ],
      "metadata": {
        "colab": {
          "base_uri": "https://localhost:8080/"
        },
        "id": "QPWbuDYBblZH",
        "outputId": "26e0a5cc-58b8-4109-b788-b07fec0cd51d"
      },
      "execution_count": 154,
      "outputs": [
        {
          "output_type": "stream",
          "name": "stdout",
          "text": [
            "3\n"
          ]
        }
      ]
    },
    {
      "cell_type": "code",
      "source": [
        "print(tuple_1.count(100))"
      ],
      "metadata": {
        "colab": {
          "base_uri": "https://localhost:8080/"
        },
        "id": "e_tS7JUKb2xV",
        "outputId": "bb1ec2ca-dd0b-436b-edb1-4b2190dadcf8"
      },
      "execution_count": 155,
      "outputs": [
        {
          "output_type": "stream",
          "name": "stdout",
          "text": [
            "1\n"
          ]
        }
      ]
    },
    {
      "cell_type": "code",
      "source": [
        "# Differences between tuples and lists\n",
        "\n",
        "list_1 = [100, 200, 300]\n",
        "\n",
        "# Change an element within the list\n",
        "\n",
        "list_1[2] = 500\n",
        "\n",
        "print(list_1)\n",
        "\n",
        "# Can we do the same with tuples? NO.\n",
        "\n",
        "#tuple_1[2] = 500 # This gives us an error\n",
        "# TypeError: 'tuple' object does not support item assignment\n"
      ],
      "metadata": {
        "colab": {
          "base_uri": "https://localhost:8080/"
        },
        "id": "CeIPW-4JdPuL",
        "outputId": "26f5f0b1-b638-434e-e24c-e8b28042432e"
      },
      "execution_count": 156,
      "outputs": [
        {
          "output_type": "stream",
          "name": "stdout",
          "text": [
            "[100, 200, 500]\n"
          ]
        }
      ]
    },
    {
      "cell_type": "code",
      "source": [
        "# Tuples can receive objects via unpacking\n",
        "# Let's get the elements from list_1\n",
        "\n",
        "print(list_1)\n",
        "\n",
        "x, y, z = list_1\n",
        "\n",
        "print(x, y, z)"
      ],
      "metadata": {
        "colab": {
          "base_uri": "https://localhost:8080/"
        },
        "id": "3jrhu1TmdeZt",
        "outputId": "c27aa0a1-614e-4e25-8022-7326d7627bc2"
      },
      "execution_count": 157,
      "outputs": [
        {
          "output_type": "stream",
          "name": "stdout",
          "text": [
            "[100, 200, 500]\n",
            "100 200 500\n"
          ]
        }
      ]
    },
    {
      "cell_type": "code",
      "source": [
        "# Parethesis are not strictly needed to generate tuples\n",
        "# But they are desired highly\n",
        "\n",
        "tuple_2 = 7,8,9\n",
        "\n",
        "tuple_3 = (7,8,9)\n",
        "\n",
        "print(type(tuple_2))\n",
        "print(type(tuple_3))"
      ],
      "metadata": {
        "colab": {
          "base_uri": "https://localhost:8080/"
        },
        "id": "TGkJzzhZeL20",
        "outputId": "a8b83ca3-369d-4f73-e672-c8a8b835176e"
      },
      "execution_count": 158,
      "outputs": [
        {
          "output_type": "stream",
          "name": "stdout",
          "text": [
            "<class 'tuple'>\n",
            "<class 'tuple'>\n"
          ]
        }
      ]
    },
    {
      "cell_type": "markdown",
      "source": [
        "7.4 Sets:\n",
        "To define lists we use {} (curly brackets). Allow for some basic operations:\n",
        "\n",
        "- Unions\n",
        "- Intersections\n",
        "- Differences"
      ],
      "metadata": {
        "id": "6PZYN1-oe8dX"
      }
    },
    {
      "cell_type": "code",
      "source": [
        "{1, 1, 2, 3, 4, 4, 5, 6, 6, 7, 7, 7}"
      ],
      "metadata": {
        "colab": {
          "base_uri": "https://localhost:8080/"
        },
        "id": "H35LACozes_Y",
        "outputId": "4ae0cfa2-0801-4d6c-cf79-2899ae3212c3"
      },
      "execution_count": 159,
      "outputs": [
        {
          "output_type": "execute_result",
          "data": {
            "text/plain": [
              "{1, 2, 3, 4, 5, 6, 7}"
            ]
          },
          "metadata": {},
          "execution_count": 159
        }
      ]
    },
    {
      "cell_type": "code",
      "source": [
        "print(type({1, 1, 2, 3, 4, 4, 5, 6, 6, 7, 7, 7}))"
      ],
      "metadata": {
        "colab": {
          "base_uri": "https://localhost:8080/"
        },
        "id": "ABOVkbYEfYI0",
        "outputId": "9ee104c0-01ec-49e3-ab3a-5028a6dc149a"
      },
      "execution_count": 160,
      "outputs": [
        {
          "output_type": "stream",
          "name": "stdout",
          "text": [
            "<class 'set'>\n"
          ]
        }
      ]
    },
    {
      "cell_type": "code",
      "source": [
        "# Operations via set():\n",
        "\n",
        "# The unique elements can be found like this:\n",
        "\n",
        "set_1 = set([1, 1, 2, 3, 4, 4, 5, 6, 6, 7, 7, 7])\n",
        "\n",
        "print(set_1)\n"
      ],
      "metadata": {
        "colab": {
          "base_uri": "https://localhost:8080/"
        },
        "id": "lyUOhd3dfd8o",
        "outputId": "9fd54662-de82-41a9-9a7b-b671b53323de"
      },
      "execution_count": 161,
      "outputs": [
        {
          "output_type": "stream",
          "name": "stdout",
          "text": [
            "{1, 2, 3, 4, 5, 6, 7}\n"
          ]
        }
      ]
    },
    {
      "cell_type": "code",
      "source": [
        "# This is for tuples\n",
        "\n",
        "set_2 = set((1, 1, 2, 3, 4, 4, 5, 6, 6, 7, 7, 7))\n",
        "\n",
        "print(set_2)"
      ],
      "metadata": {
        "colab": {
          "base_uri": "https://localhost:8080/"
        },
        "id": "PhKGYd8SfpcQ",
        "outputId": "d95f2429-ca93-4a1d-ba30-dea1e07c3535"
      },
      "execution_count": 162,
      "outputs": [
        {
          "output_type": "stream",
          "name": "stdout",
          "text": [
            "{1, 2, 3, 4, 5, 6, 7}\n"
          ]
        }
      ]
    },
    {
      "cell_type": "code",
      "source": [
        "# For strings:\n",
        "\n",
        "set_3 = set(\"Yachay\")\n",
        "\n",
        "print(set_3)"
      ],
      "metadata": {
        "colab": {
          "base_uri": "https://localhost:8080/"
        },
        "id": "mpNl1ZZuf-Yy",
        "outputId": "804c6de5-00c0-436c-da1e-20e171b3e729"
      },
      "execution_count": 163,
      "outputs": [
        {
          "output_type": "stream",
          "name": "stdout",
          "text": [
            "{'c', 'Y', 'h', 'a', 'y'}\n"
          ]
        }
      ]
    },
    {
      "cell_type": "code",
      "source": [
        "# Define a new set:\n",
        "\n",
        "set_4 = set((5,6,7, 8, 9, 10))\n",
        "\n",
        "print(set_4)"
      ],
      "metadata": {
        "colab": {
          "base_uri": "https://localhost:8080/"
        },
        "id": "fyCB8zSdgOYO",
        "outputId": "21cdb2f1-1990-4e2b-bbfe-098fa174a532"
      },
      "execution_count": 164,
      "outputs": [
        {
          "output_type": "stream",
          "name": "stdout",
          "text": [
            "{5, 6, 7, 8, 9, 10}\n"
          ]
        }
      ]
    },
    {
      "cell_type": "code",
      "source": [
        "# Union operation:\n",
        "\n",
        "set_2.union(set_4)\n"
      ],
      "metadata": {
        "colab": {
          "base_uri": "https://localhost:8080/"
        },
        "id": "jI5vSJPOghfO",
        "outputId": "87b3a328-e14a-4d0f-f8cb-5057416c4bd6"
      },
      "execution_count": 165,
      "outputs": [
        {
          "output_type": "execute_result",
          "data": {
            "text/plain": [
              "{1, 2, 3, 4, 5, 6, 7, 8, 9, 10}"
            ]
          },
          "metadata": {},
          "execution_count": 165
        }
      ]
    },
    {
      "cell_type": "code",
      "source": [
        "# Intersection:\n",
        "\n",
        "set_2.intersection(set_4)"
      ],
      "metadata": {
        "colab": {
          "base_uri": "https://localhost:8080/"
        },
        "id": "l8rj77MygxT_",
        "outputId": "f209a89e-9d8c-48b0-81b3-2631d13eea20"
      },
      "execution_count": 166,
      "outputs": [
        {
          "output_type": "execute_result",
          "data": {
            "text/plain": [
              "{5, 6, 7}"
            ]
          },
          "metadata": {},
          "execution_count": 166
        }
      ]
    },
    {
      "cell_type": "markdown",
      "source": [
        "7.5 Dictionaries: To define dictionaries we also use {} (curly brackets), but need to define \"keys\" to individual elements. Allow for some basic operations:"
      ],
      "metadata": {
        "id": "WQtGjBXChIOs"
      }
    },
    {
      "cell_type": "code",
      "source": [
        "# Define a dictionary:\n",
        "\n",
        "dict_1 = {\"CP1\": 7 , \"QM1\": 6 , \"ED1\": 6, \"GR\": 9}\n",
        "\n",
        "print(type(dict_1))"
      ],
      "metadata": {
        "colab": {
          "base_uri": "https://localhost:8080/"
        },
        "id": "Pd-vEs_Qg7tI",
        "outputId": "02339d71-b812-4c66-be8d-535b7d4021b2"
      },
      "execution_count": 167,
      "outputs": [
        {
          "output_type": "stream",
          "name": "stdout",
          "text": [
            "<class 'dict'>\n"
          ]
        }
      ]
    },
    {
      "cell_type": "code",
      "source": [
        "# Indexing works with the keys:\n",
        "\n",
        "print(dict_1[\"GR\"])"
      ],
      "metadata": {
        "colab": {
          "base_uri": "https://localhost:8080/"
        },
        "id": "wPH-grysiBi5",
        "outputId": "13a62fa9-47dc-40c3-9170-a2a8af24669a"
      },
      "execution_count": 168,
      "outputs": [
        {
          "output_type": "stream",
          "name": "stdout",
          "text": [
            "9\n"
          ]
        }
      ]
    },
    {
      "cell_type": "code",
      "source": [
        "# Print out the keys available\n",
        "\n",
        "dict_1.keys()"
      ],
      "metadata": {
        "colab": {
          "base_uri": "https://localhost:8080/"
        },
        "id": "Ahb3c_qGiZFX",
        "outputId": "e0007e4d-1d52-4f26-d58c-15c4b475286a"
      },
      "execution_count": 169,
      "outputs": [
        {
          "output_type": "execute_result",
          "data": {
            "text/plain": [
              "dict_keys(['CP1', 'QM1', 'ED1', 'GR'])"
            ]
          },
          "metadata": {},
          "execution_count": 169
        }
      ]
    },
    {
      "cell_type": "code",
      "source": [
        "# Print the length of the dictionary\n",
        "\n",
        "print(len(dict_1))"
      ],
      "metadata": {
        "colab": {
          "base_uri": "https://localhost:8080/"
        },
        "id": "kUo6u6bPi6Oo",
        "outputId": "c6e24a62-9367-49b3-f004-c4a2c56c35fd"
      },
      "execution_count": 170,
      "outputs": [
        {
          "output_type": "stream",
          "name": "stdout",
          "text": [
            "4\n"
          ]
        }
      ]
    },
    {
      "cell_type": "code",
      "source": [
        "# Empty dictionaries:\n",
        "\n",
        "universities_dict = {}"
      ],
      "metadata": {
        "id": "mfv4cf-bjB35"
      },
      "execution_count": 171,
      "outputs": []
    },
    {
      "cell_type": "code",
      "source": [
        "# Fill up the dictionary:\n",
        "\n",
        "universities_dict[\"Yachay\"] = \"Imbabura\"\n",
        "\n",
        "print(universities_dict)"
      ],
      "metadata": {
        "colab": {
          "base_uri": "https://localhost:8080/"
        },
        "id": "BQUSnonOjXDL",
        "outputId": "aa534660-4cff-4aca-87b0-0c17f7739545"
      },
      "execution_count": 172,
      "outputs": [
        {
          "output_type": "stream",
          "name": "stdout",
          "text": [
            "{'Yachay': 'Imbabura'}\n"
          ]
        }
      ]
    },
    {
      "cell_type": "code",
      "source": [
        "universities_dict[\"EPN\"] = \"Pichincha\"\n",
        "\n",
        "print(universities_dict)"
      ],
      "metadata": {
        "colab": {
          "base_uri": "https://localhost:8080/"
        },
        "id": "hH_neuemji8t",
        "outputId": "93611117-d9dd-4597-b84c-0f0e01d903ea"
      },
      "execution_count": 173,
      "outputs": [
        {
          "output_type": "stream",
          "name": "stdout",
          "text": [
            "{'Yachay': 'Imbabura', 'EPN': 'Pichincha'}\n"
          ]
        }
      ]
    },
    {
      "cell_type": "code",
      "source": [
        "universities_dict[\"Espol\"] = \"Guayas\"\n",
        "\n",
        "print(universities_dict)"
      ],
      "metadata": {
        "colab": {
          "base_uri": "https://localhost:8080/"
        },
        "id": "RoprmhQYjqLQ",
        "outputId": "f8fd346e-c1a1-4b25-d496-99b5e2fe948b"
      },
      "execution_count": 174,
      "outputs": [
        {
          "output_type": "stream",
          "name": "stdout",
          "text": [
            "{'Yachay': 'Imbabura', 'EPN': 'Pichincha', 'Espol': 'Guayas'}\n"
          ]
        }
      ]
    },
    {
      "cell_type": "code",
      "source": [
        "universities_dict[\"Ecuador code\"] = 593\n",
        "\n",
        "print(universities_dict)"
      ],
      "metadata": {
        "colab": {
          "base_uri": "https://localhost:8080/"
        },
        "id": "PfdzhiuujuFC",
        "outputId": "72cbfde9-e1aa-4fe9-af20-0e84518153ca"
      },
      "execution_count": 175,
      "outputs": [
        {
          "output_type": "stream",
          "name": "stdout",
          "text": [
            "{'Yachay': 'Imbabura', 'EPN': 'Pichincha', 'Espol': 'Guayas', 'Ecuador code': 593}\n"
          ]
        }
      ]
    },
    {
      "cell_type": "code",
      "source": [
        "# Adding multiple elements in one go:\n",
        "# https://www.programiz.com/python-programming/methods/dictionary/update\n",
        "universities_dict.update({\"UTA\": \"Tungurahua\", \"ESPOCH\": \"Chimborazo\"})"
      ],
      "metadata": {
        "id": "xE0tgqwyj4Nh"
      },
      "execution_count": 176,
      "outputs": []
    },
    {
      "cell_type": "code",
      "source": [
        "print(universities_dict)"
      ],
      "metadata": {
        "colab": {
          "base_uri": "https://localhost:8080/"
        },
        "id": "fk9Xi5hqk7Za",
        "outputId": "6b1d26e5-89fd-4144-e4c8-df8382dad7ed"
      },
      "execution_count": 177,
      "outputs": [
        {
          "output_type": "stream",
          "name": "stdout",
          "text": [
            "{'Yachay': 'Imbabura', 'EPN': 'Pichincha', 'Espol': 'Guayas', 'Ecuador code': 593, 'UTA': 'Tungurahua', 'ESPOCH': 'Chimborazo'}\n"
          ]
        }
      ]
    },
    {
      "cell_type": "code",
      "source": [
        "# Remove elements from dictionary via del()\n",
        "\n",
        "del universities_dict[\"Ecuador code\"]"
      ],
      "metadata": {
        "id": "HBqtDXgAlBE7"
      },
      "execution_count": 178,
      "outputs": []
    },
    {
      "cell_type": "code",
      "source": [
        "print(universities_dict)"
      ],
      "metadata": {
        "colab": {
          "base_uri": "https://localhost:8080/"
        },
        "id": "5ppLZXNll0t8",
        "outputId": "401d221e-47ec-427e-c4b0-c1af1f7894ac"
      },
      "execution_count": 179,
      "outputs": [
        {
          "output_type": "stream",
          "name": "stdout",
          "text": [
            "{'Yachay': 'Imbabura', 'EPN': 'Pichincha', 'Espol': 'Guayas', 'UTA': 'Tungurahua', 'ESPOCH': 'Chimborazo'}\n"
          ]
        }
      ]
    },
    {
      "cell_type": "code",
      "source": [
        "%whos"
      ],
      "metadata": {
        "colab": {
          "base_uri": "https://localhost:8080/"
        },
        "id": "Pq8Gupbzl2sI",
        "outputId": "5ef66c7c-baca-44c8-d9fa-1aaf3b908104"
      },
      "execution_count": 180,
      "outputs": [
        {
          "output_type": "stream",
          "name": "stdout",
          "text": [
            "Variable            Type      Data/Info\n",
            "---------------------------------------\n",
            "b                   float     3.0\n",
            "c                   float     6.0\n",
            "d                   str       file\n",
            "d_list              list      n=4\n",
            "dict_1              dict      n=4\n",
            "e                   str        \n",
            "f                   str       file001\n",
            "list_1              list      n=3\n",
            "list_2              list      n=3\n",
            "list_3              list      n=6\n",
            "m                   list      n=2\n",
            "math                module    <module 'math' (built-in)>\n",
            "set_1               set       {1, 2, 3, 4, 5, 6, 7}\n",
            "set_2               set       {1, 2, 3, 4, 5, 6, 7}\n",
            "set_3               set       {'c', 'Y', 'h', 'a', 'y'}\n",
            "set_4               set       {5, 6, 7, 8, 9, 10}\n",
            "t                   float     1.0\n",
            "tuple_1             tuple     n=3\n",
            "tuple_2             tuple     n=3\n",
            "tuple_3             tuple     n=3\n",
            "universities_dict   dict      n=5\n",
            "x                   int       100\n",
            "y                   int       200\n",
            "z                   int       500\n"
          ]
        }
      ]
    },
    {
      "cell_type": "code",
      "source": [
        "print(x)"
      ],
      "metadata": {
        "colab": {
          "base_uri": "https://localhost:8080/"
        },
        "id": "V709eeIxl6xj",
        "outputId": "9811f1b4-b9de-4404-bb40-964e09719e44"
      },
      "execution_count": 181,
      "outputs": [
        {
          "output_type": "stream",
          "name": "stdout",
          "text": [
            "100\n"
          ]
        }
      ]
    },
    {
      "cell_type": "code",
      "source": [
        "del x"
      ],
      "metadata": {
        "id": "tpWZge_GmInf"
      },
      "execution_count": 182,
      "outputs": []
    },
    {
      "cell_type": "code",
      "source": [
        "print(x)"
      ],
      "metadata": {
        "colab": {
          "base_uri": "https://localhost:8080/",
          "height": 141
        },
        "id": "RjC2x8fNmJ3W",
        "outputId": "759863cc-4e8d-488f-a649-977ce2867f86"
      },
      "execution_count": 183,
      "outputs": [
        {
          "output_type": "error",
          "ename": "NameError",
          "evalue": "name 'x' is not defined",
          "traceback": [
            "\u001b[0;31m---------------------------------------------------------------------------\u001b[0m",
            "\u001b[0;31mNameError\u001b[0m                                 Traceback (most recent call last)",
            "\u001b[0;32m<ipython-input-183-fc17d851ef81>\u001b[0m in \u001b[0;36m<cell line: 1>\u001b[0;34m()\u001b[0m\n\u001b[0;32m----> 1\u001b[0;31m \u001b[0mprint\u001b[0m\u001b[0;34m(\u001b[0m\u001b[0mx\u001b[0m\u001b[0;34m)\u001b[0m\u001b[0;34m\u001b[0m\u001b[0;34m\u001b[0m\u001b[0m\n\u001b[0m",
            "\u001b[0;31mNameError\u001b[0m: name 'x' is not defined"
          ]
        }
      ]
    },
    {
      "cell_type": "code",
      "source": [
        "%whos"
      ],
      "metadata": {
        "colab": {
          "base_uri": "https://localhost:8080/"
        },
        "id": "AJAJ98brmKvs",
        "outputId": "f13b3ab1-f2a1-47d4-9043-11b364664184"
      },
      "execution_count": 184,
      "outputs": [
        {
          "output_type": "stream",
          "name": "stdout",
          "text": [
            "Variable            Type      Data/Info\n",
            "---------------------------------------\n",
            "b                   float     3.0\n",
            "c                   float     6.0\n",
            "d                   str       file\n",
            "d_list              list      n=4\n",
            "dict_1              dict      n=4\n",
            "e                   str        \n",
            "f                   str       file001\n",
            "list_1              list      n=3\n",
            "list_2              list      n=3\n",
            "list_3              list      n=6\n",
            "m                   list      n=2\n",
            "math                module    <module 'math' (built-in)>\n",
            "set_1               set       {1, 2, 3, 4, 5, 6, 7}\n",
            "set_2               set       {1, 2, 3, 4, 5, 6, 7}\n",
            "set_3               set       {'c', 'Y', 'h', 'a', 'y'}\n",
            "set_4               set       {5, 6, 7, 8, 9, 10}\n",
            "t                   float     1.0\n",
            "tuple_1             tuple     n=3\n",
            "tuple_2             tuple     n=3\n",
            "tuple_3             tuple     n=3\n",
            "universities_dict   dict      n=5\n",
            "y                   int       200\n",
            "z                   int       500\n"
          ]
        }
      ]
    },
    {
      "cell_type": "code",
      "source": [],
      "metadata": {
        "id": "0Kmyoa-jmbqv"
      },
      "execution_count": null,
      "outputs": []
    }
  ]
}