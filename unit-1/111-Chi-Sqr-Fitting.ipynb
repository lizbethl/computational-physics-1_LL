{
 "cells": [
  {
   "cell_type": "markdown",
   "id": "4b551e2f",
   "metadata": {},
   "source": [
    "# $\\chi^2$ fitting/minimisation:\n",
    "\n",
    "Given the functional form:\n",
    "\n",
    "$r(p) = \\frac{y_i - f(x_i,p)}{\\sigma_i}$\n",
    "\n",
    "where $y_i$ are the data points and $f(x_i,p)$ is the model.\n",
    "\n",
    "\n",
    "$\\chi^2$ minimisation requires you to minimise it so that we find the best value of $p$:\n",
    "\n",
    "$\\min \\sum_1^N (r(p))^2$\n",
    "\n",
    "The advantage of this method is that you can include the uncertainties in $y_i$."
   ]
  },
  {
   "cell_type": "markdown",
   "id": "8ba0207d",
   "metadata": {},
   "source": [
    "## Example 1: Simple Pendulum\n",
    "\n",
    "Let's take a look at the simple pendulum experiment from physics 1.\n",
    "\n",
    "In the lab, you are normally asked to collect data points for differents lengths and periods of simple pendulum experiments. To collect each data point, we fix the length of the pendulum, move the pendulum bob by a small angle and release it. Subsequently, we use a chronometer to record the time ot takes for the bob to complete a period. Several measurementes can be collected to build up statistics."
   ]
  },
  {
   "cell_type": "markdown",
   "id": "0cdf30fe",
   "metadata": {},
   "source": [
    "### Length-period relation:\n",
    "\n",
    "The pendulum equations result in a physically-motivated model for the relationship between the lenght and period of the pendulum.\n",
    "\n",
    "$$T = 2\\pi\\sqrt{\\frac{L}{g}}$$\n",
    "\n",
    "$$T = \\frac{2\\pi}{\\sqrt{g}}\\sqrt{L}$$\n",
    "\n",
    "$$T = \\beta\\sqrt{L}$$\n"
   ]
  },
  {
   "cell_type": "markdown",
   "id": "9475e5a5",
   "metadata": {},
   "source": [
    "### Base example on LM regression:"
   ]
  },
  {
   "cell_type": "markdown",
   "id": "c0051e5e",
   "metadata": {},
   "source": [
    "### Method 1. Using our own functions:"
   ]
  },
  {
   "cell_type": "markdown",
   "id": "fc0c27f1",
   "metadata": {},
   "source": [
    "### Method 2: Optimisation routine to minimise our $\\chi^2$ function:\n",
    "\n",
    "We will use minimize from scipy.optimize:\n",
    "\n",
    "We can use opt.minimize from the scipy package.\n",
    "\n",
    "\n",
    "https://docs.scipy.org/doc/scipy/reference/generated/scipy.optimize.minimize.html\n",
    "\n",
    "\n",
    "This function minimises a scalar function of one or more variables.\n",
    "\n",
    "\n",
    "The optimization result is represented as a OptimizeResult object with attributes:\n",
    "\n",
    "\n",
    "- **x** the solution array\n",
    "- **success** a Boolean flag indicating if the optimizer exited successfully\n",
    "- **a message** which describes the cause of the termination.\n",
    "\n",
    "\n"
   ]
  },
  {
   "cell_type": "markdown",
   "id": "3aaedda8",
   "metadata": {},
   "source": [
    "### Compare to the LM method:"
   ]
  },
  {
   "cell_type": "markdown",
   "id": "b3433dde",
   "metadata": {},
   "source": [
    "## Example 2:  spectral fitting via $\\chi^2$:\n",
    "\n",
    "We are going to generate a noisy synthetic spectrum and use $\\chi^2$ minimisation to find the best-fit model.\n",
    "\n",
    "#### 1. Synthetic spectrum:\n",
    "\n",
    "Gaussian profile:\n",
    "\n",
    "$$g(x) = \\frac{1}{\\sigma\\sqrt{2\\pi}} \\exp\\left( -\\frac{1}{2} \\frac{(x - \\mu)^2}{\\sigma^2} \\right).$$"
   ]
  },
  {
   "cell_type": "markdown",
   "id": "a6f6bc2d",
   "metadata": {},
   "source": [
    "#### 2. Error bars"
   ]
  },
  {
   "cell_type": "markdown",
   "id": "2b08dd74",
   "metadata": {},
   "source": [
    "#### 3. LM fitting with curve_fit():"
   ]
  },
  {
   "cell_type": "markdown",
   "id": "edeb714e",
   "metadata": {},
   "source": [
    "#### 4. $\\chi^2$ fitting with curve_fit():"
   ]
  },
  {
   "cell_type": "markdown",
   "id": "30f2d815",
   "metadata": {},
   "source": [
    "#### 5. LM vs. $\\chi^2$ Method Comparison"
   ]
  },
  {
   "cell_type": "markdown",
   "id": "938f1761",
   "metadata": {},
   "source": [
    "#### 5. Goodness of fit test:\n",
    "\n",
    "We need to compute the $\\chi^2$ statistic to assess how good/bad was out fit."
   ]
  },
  {
   "cell_type": "markdown",
   "id": "c428cebd",
   "metadata": {},
   "source": [
    "#### 7. New model including baseline:"
   ]
  },
  {
   "cell_type": "code",
   "execution_count": null,
   "id": "a3c17532",
   "metadata": {},
   "outputs": [],
   "source": []
  }
 ],
 "metadata": {
  "kernelspec": {
   "display_name": "Python 3 (ipykernel)",
   "language": "python",
   "name": "python3"
  },
  "language_info": {
   "codemirror_mode": {
    "name": "ipython",
    "version": 3
   },
   "file_extension": ".py",
   "mimetype": "text/x-python",
   "name": "python",
   "nbconvert_exporter": "python",
   "pygments_lexer": "ipython3",
   "version": "3.7.16"
  }
 },
 "nbformat": 4,
 "nbformat_minor": 5
}
